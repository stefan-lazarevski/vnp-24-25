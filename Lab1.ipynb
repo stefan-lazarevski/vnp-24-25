{
  "nbformat": 4,
  "nbformat_minor": 0,
  "metadata": {
    "colab": {
      "provenance": [],
      "include_colab_link": true
    },
    "kernelspec": {
      "name": "python3",
      "display_name": "Python 3"
    },
    "language_info": {
      "name": "python"
    }
  },
  "cells": [
    {
      "cell_type": "markdown",
      "metadata": {
        "id": "view-in-github",
        "colab_type": "text"
      },
      "source": [
        "<a href=\"https://colab.research.google.com/github/stefan-lazarevski/vnp-24-25/blob/master/Lab1.ipynb\" target=\"_parent\"><img src=\"https://colab.research.google.com/assets/colab-badge.svg\" alt=\"Open In Colab\"/></a>"
      ]
    },
    {
      "cell_type": "markdown",
      "source": [
        "# Lab Exercise 1. Scraping Static Websites\n"
      ],
      "metadata": {
        "id": "skreU4ZawqQ_"
      }
    },
    {
      "cell_type": "markdown",
      "source": [
        "This is the warmup task for the first laboratory exercise. It consists of scraping static Websites with BeautifulSoap.\n",
        "\n",
        " It should be completed at home and presented at the laboratory."
      ],
      "metadata": {
        "id": "VzAWoqz5wwT9"
      }
    },
    {
      "cell_type": "markdown",
      "source": [
        "**Total points: 2**"
      ],
      "metadata": {
        "id": "qpdvbrsow5EE"
      }
    },
    {
      "cell_type": "markdown",
      "source": [
        "### Task Description"
      ],
      "metadata": {
        "id": "6eDmGLrXx0t8"
      }
    },
    {
      "cell_type": "markdown",
      "source": [
        "Scrape the information about the products on the following page:\n",
        "https://clevershop.mk/product-category/mobilni-laptopi-i-tableti/"
      ],
      "metadata": {
        "id": "RG42MHsDxAP_"
      }
    },
    {
      "cell_type": "markdown",
      "source": [
        "For each product scrape:\n",
        "\n",
        "\n",
        "*   Product title (selector `'.wd-entities-title'`)\n",
        "*   Product regular price (selector `'.woocommerce-Price-amount'`)\n",
        "*   Product discount price (if available), same selector as regular price\n",
        "*   URL to the product page\n",
        "*   Add to cart button URL\n",
        "\n",
        "***Help: There are multiple product pages, for each page you need to send a separate request***\n"
      ],
      "metadata": {
        "id": "uoTcMRl4xP3G"
      }
    },
    {
      "cell_type": "markdown",
      "source": [
        "Save the results as a DataFrame object"
      ],
      "metadata": {
        "id": "tc0QvUR8xxwt"
      }
    },
    {
      "cell_type": "markdown",
      "source": [
        "You can add as many code cells as you need."
      ],
      "metadata": {
        "id": "peGjiUZLzbZt"
      }
    },
    {
      "cell_type": "markdown",
      "source": [
        "________________________________________________________________"
      ],
      "metadata": {
        "id": "b7U-kwKSzUIV"
      }
    },
    {
      "cell_type": "markdown",
      "source": [
        "### Requirements"
      ],
      "metadata": {
        "id": "yn5gyMzNx5Vk"
      }
    },
    {
      "cell_type": "markdown",
      "source": [
        "Import libraries and modules that you are going to use"
      ],
      "metadata": {
        "id": "WZ3ifNLhx7tk"
      }
    },
    {
      "cell_type": "code",
      "source": [
        "import requests\n",
        "from bs4 import BeautifulSoup\n",
        "import pandas as pd"
      ],
      "metadata": {
        "id": "GQ3zSO8WyJC_"
      },
      "execution_count": null,
      "outputs": []
    },
    {
      "cell_type": "markdown",
      "source": [
        "### Send HTTP request to the target Website"
      ],
      "metadata": {
        "id": "fsR71mugyJP7"
      }
    },
    {
      "cell_type": "code",
      "source": [
        "url = \"https://clevershop.mk/product-category/mobilni-laptopi-i-tableti/\"\n",
        "response = requests.get(url)"
      ],
      "metadata": {
        "id": "61ImGen2yQff"
      },
      "execution_count": null,
      "outputs": []
    },
    {
      "cell_type": "markdown",
      "source": [
        "check the response status code"
      ],
      "metadata": {
        "id": "lFnRsSVJyXit"
      }
    },
    {
      "cell_type": "code",
      "source": [
        "response.status_code == 200"
      ],
      "metadata": {
        "id": "xy6xJ3RGyXUN",
        "colab": {
          "base_uri": "https://localhost:8080/"
        },
        "outputId": "313b6153-6243-4016-ff63-320c325d4934"
      },
      "execution_count": null,
      "outputs": [
        {
          "output_type": "execute_result",
          "data": {
            "text/plain": [
              "True"
            ]
          },
          "metadata": {},
          "execution_count": 3
        }
      ]
    },
    {
      "cell_type": "markdown",
      "source": [
        "### Parse the response content with BeautifulSoap"
      ],
      "metadata": {
        "id": "-MykzAV4yQ4j"
      }
    },
    {
      "cell_type": "code",
      "source": [
        "soup = BeautifulSoup(response.content, 'html.parser')"
      ],
      "metadata": {
        "id": "F92A3wvlyUBc"
      },
      "execution_count": null,
      "outputs": []
    },
    {
      "cell_type": "markdown",
      "source": [
        "### Extract data from the BeautifulSoap object using any selectors, attribute identifiers, etc."
      ],
      "metadata": {
        "id": "F8hifMvVycfV"
      }
    },
    {
      "cell_type": "markdown",
      "source": [
        "* Product title (selector '.wd-entities-title')\n",
        "* Product regular price (selector '.woocommerce-Price-amount')\n",
        "* Product discount price (if available), same selector as regular price\n",
        "* URL to the product page\n",
        "* Add to cart button URL"
      ],
      "metadata": {
        "id": "sHgfHr61y2tD"
      }
    },
    {
      "cell_type": "markdown",
      "source": [
        "Repeat the extraction process for each page of products"
      ],
      "metadata": {
        "id": "gToy7d5Jy9Qk"
      }
    },
    {
      "cell_type": "code",
      "source": [
        "all_products = []\n",
        "for page in range(1, 15):\n",
        "  products = soup.select('.product')\n",
        "  for product in products:\n",
        "        # Get product details\n",
        "        title = product.select_one('.wd-entities-title').text.strip()\n",
        "        price = product.select_one('.woocommerce-Price-amount').text.strip()\n",
        "        discount_tag = product.select_one('.onsale')\n",
        "        discount = discount_tag.text.strip() if discount_tag else None\n",
        "        product_link = product.select_one('.product-image-link')['href']\n",
        "        buy_link = product.select_one('.button')['href']\n",
        "\n",
        "        # Create product dictionary\n",
        "        product_info = {\n",
        "            'Title': title,\n",
        "            'Price': price,\n",
        "            'Discount': discount,\n",
        "            'Product_url': product_link,\n",
        "            'Buy_url': buy_link\n",
        "        }\n",
        "\n",
        "        # Add to list\n",
        "        all_products.append(product_info)"
      ],
      "metadata": {
        "id": "rVdYuEv3zArs"
      },
      "execution_count": null,
      "outputs": []
    },
    {
      "cell_type": "markdown",
      "source": [
        "### Create a pandas DataFrame with the scraped products"
      ],
      "metadata": {
        "id": "R4OIUt0AynuU"
      }
    },
    {
      "cell_type": "code",
      "source": [
        "df = pd.DataFrame(all_products)\n",
        "print(df.head())"
      ],
      "metadata": {
        "id": "-wCzGEj8yrKU",
        "colab": {
          "base_uri": "https://localhost:8080/"
        },
        "outputId": "441b6725-4ba1-4507-f0de-902572ab0078"
      },
      "execution_count": null,
      "outputs": [
        {
          "output_type": "stream",
          "name": "stdout",
          "text": [
            "                        Title       Price Discount  \\\n",
            "0           Acer A315-23-A7KD  17.590 ден     None   \n",
            "1           Acer A315-23-R5P2  27.490 ден     None   \n",
            "2       ACER Aspire 1 A115-22  18.999 ден     -16%   \n",
            "3  Acer Aspire 3 A315-23-R26A  29.990 ден     None   \n",
            "4  Acer Aspire 3 A315-58-33WK  24.490 ден     None   \n",
            "\n",
            "                                         Product_url             Buy_url  \n",
            "0   https://clevershop.mk/product/acer-a315-23-a7kd/  ?add-to-cart=21494  \n",
            "1   https://clevershop.mk/product/acer-a315-23-r5p2/  ?add-to-cart=21510  \n",
            "2  https://clevershop.mk/product/acer-aspire-1-nx...  ?add-to-cart=20826  \n",
            "3  https://clevershop.mk/product/acer-aspire-3-a3...  ?add-to-cart=21516  \n",
            "4               https://clevershop.mk/product/21498/  ?add-to-cart=21498  \n"
          ]
        }
      ]
    },
    {
      "cell_type": "markdown",
      "source": [
        "Save the dataframe as `.csv`"
      ],
      "metadata": {
        "id": "Rxbi54EOyrb8"
      }
    },
    {
      "cell_type": "code",
      "source": [
        "df.to_csv('clevershop-products.csv', index=False)"
      ],
      "metadata": {
        "id": "TLNfZQ07yuQE"
      },
      "execution_count": null,
      "outputs": []
    }
  ]
}